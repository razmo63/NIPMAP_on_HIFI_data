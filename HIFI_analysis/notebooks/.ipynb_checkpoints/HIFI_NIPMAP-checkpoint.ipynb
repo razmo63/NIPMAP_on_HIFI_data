{
 "cells": [
  {
   "cell_type": "code",
   "execution_count": 3,
   "id": "f86858a6",
   "metadata": {},
   "outputs": [
    {
     "name": "stdout",
     "output_type": "stream",
     "text": [
      "The autoreload extension is already loaded. To reload it, use:\n",
      "  %reload_ext autoreload\n"
     ]
    },
    {
     "data": {
      "text/plain": [
       "'/Users/razi.m/Bs_Molecular_Bioinformatics/Year3/Spring_Semester_2023/Thesis/Article/NIPMAP_on_HIFI_data/HIFI_analysis/notebooks'"
      ]
     },
     "execution_count": 3,
     "metadata": {},
     "output_type": "execute_result"
    }
   ],
   "source": [
    "%load_ext autoreload\n",
    "%autoreload 2\n",
    "import os\n",
    "import sys\n",
    "#myDir = os.getcwd()\n",
    "module_path = os.path.abspath(os.path.join('../../TMENS_analysis/')) \n",
    "if module_path not in sys.path:\n",
    "    sys.path.append(module_path)\n",
    "os.getcwd()\n"
   ]
  },
  {
   "cell_type": "markdown",
   "id": "1d6a1667",
   "metadata": {},
   "source": [
    "### Import requierments packages, NIPMAP packages can be found in src folder."
   ]
  },
  {
   "cell_type": "code",
   "execution_count": 4,
   "id": "2eb54bc1",
   "metadata": {},
   "outputs": [],
   "source": [
    "import pandas as pd\n",
    "import numpy as np\n",
    "import json\n",
    "import shutil\n",
    "import matplotlib.pyplot as plt\n",
    "from src.CellAbundance import CellAbundance, join_abundance_matrices, generate_abundance_matrix\n",
    "from src.utils.archetypes import ArchetypalAnalysis\n",
    "from src.utils.equations import compute_cells_niches_weights,get_niches_cell_abund\n",
    "from src.utils.visualization import plot_cells_positions,radius_pc_all_variance,plot_cells_positions\n",
    "from sklearn.decomposition import PCA\n",
    "from shutil import make_archive"
   ]
  },
  {
   "cell_type": "markdown",
   "id": "dfa86bd7",
   "metadata": {},
   "source": [
    "### Define the data path and requirements parameter. "
   ]
  },
  {
   "cell_type": "code",
   "execution_count": 5,
   "id": "2e8596c3",
   "metadata": {},
   "outputs": [
    {
     "name": "stdout",
     "output_type": "stream",
     "text": [
      "4705\n"
     ]
    }
   ],
   "source": [
    "CELLTYPES = ['Astrocyte', 'Fibroblast', 'Neuron', 'Neutrophil', 'T-cell', 'TAM', 'Tumor_A','Vessel','Undefined']\n",
    "\n",
    "ImageIDs =  [31801]  #31801 #31794\n",
    "Imageinfo = \"31801_32\" #31801_32 #31794_16\n",
    "RADIUS = 25 \n",
    "METHOD =\"gaussian\"\n",
    "XSIZE= 3300 #3300 #4500\n",
    "YSIZE = 2800\n",
    "#calculate the number of sampling sites needed to cover the whole surface of the image\n",
    "nsite = int((XSIZE*YSIZE)/((RADIUS**2)*np.pi)) \n",
    "print(nsite)\n",
    "NSITES = 4700  \n",
    "ROOT_DATA_PATH = \"../data\"             \n",
    "\n"
   ]
  },
  {
   "cell_type": "markdown",
   "id": "0d8ec466",
   "metadata": {},
   "source": [
    "### Radius analysis "
   ]
  },
  {
   "cell_type": "code",
   "execution_count": 6,
   "id": "6777f3c6",
   "metadata": {},
   "outputs": [
    {
     "name": "stdout",
     "output_type": "stream",
     "text": [
      "5.0\n",
      "7.0\n",
      "11.0\n",
      "17.0\n",
      "25.0\n",
      "38.0\n",
      "57.0\n",
      "85.0\n",
      "127.0\n",
      "190.0\n"
     ]
    },
    {
     "data": {
      "image/png": "[encoded data removed]",
      "text/plain": [
       "<Figure size 1080x1080 with 2 Axes>"
      ]
     },
     "metadata": {
      "needs_background": "light"
     },
     "output_type": "display_data"
    }
   ],
   "source": [
    "Ra = np.linspace(np.log(5), np.log(190), num=10)# get interval of radiuses\n",
    "radius = np.rint(np.power(np.e,Ra).astype(float))\n",
    "method = 'gaussian'  \n",
    "\n",
    "\n",
    "ExVaRaGa ={} \n",
    "# Get explained variace of each PC on sites cell abundance interating on radius size of sites\n",
    "for r in radius:\n",
    "    print(r)\n",
    "    count_list_gussian = generate_abundance_matrix(CELLTYPES, ImageIDs, NSITES, r,\n",
    "                       center_sites_cells=False,method=METHOD,image_x_size=XSIZE,\n",
    "                       image_y_size=YSIZE, snr=3, root=ROOT_DATA_PATH)\n",
    "    \n",
    "    sites, patient_ids,s_ids, _ = join_abundance_matrices(count_list_gussian)\n",
    "    pca = PCA()\n",
    "    pc = pca.fit_transform(sites)\n",
    "    ExVaRaGa[r] = np.cumsum(pca.explained_variance_ratio_)\n",
    "ExVaRaGa[r]    \n",
    "\n",
    "radius_pc_all_variance(ExVaRaGa,radius_lim=25,nPC_lim=3,save_fig=True,\n",
    "                      cells_number=len(CELLTYPES)+1,\n",
    "                      path_fig=\"../output/fig/plot_rad_var_gauss_%s.svg\" %(Imageinfo))\n",
    "\n",
    " "
   ]
  },
  {
   "cell_type": "markdown",
   "id": "bb3923e1",
   "metadata": {},
   "source": [
    "### Generate random sampling sites and cell aboundance "
   ]
  },
  {
   "cell_type": "code",
   "execution_count": null,
   "id": "3f9cdafb",
   "metadata": {},
   "outputs": [],
   "source": [
    "\n",
    "\n",
    "RADIUS = int(input('Enter Radius for sampling sites(in micrometers/should be int):\\n'))  \n",
    "    \n",
    "CeAbLi = generate_abundance_matrix(CELLTYPES, ImageIDs, NSITES,RADIUS,method=METHOD,\n",
    "                                  random_seed=1022,snr=3,center_sites_cells=False,\n",
    "                                   root=ROOT_DATA_PATH)\n",
    "\n",
    "sites, patients_ids,sites_ids, _ = join_abundance_matrices(CeAbLi)\n",
    "CeAbDf = pd.DataFrame()\n",
    "\n",
    "print(\"Generating sites with cell abundance...\")\n",
    "\n",
    "for i in CeAbLi:\n",
    "    df_Ab = pd.DataFrame(i.abundance_matrix,columns = CELLTYPES)\n",
    "    df_Ab['site_id'] = np.arange(len(df_Ab))\n",
    "    df_Ab['patient_id'] = i.patient_id\n",
    "    CeAbDf = CeAbDf.append(df_Ab)\n",
    "\n",
    "CeAbDf = CeAbDf.reset_index()\n",
    "CeAbDf\n",
    "\n",
    "\n",
    "CeAbSiDi = {\"cellAbSites\": CeAbDf.to_dict()}\n",
    "\n",
    "# Serializing json objects\n",
    "CeAbSi_json = json.dumps(CeAbSiDi,indent=4) # cell abundance of randomly generated sites\n",
    "\n",
    "print(\"save cell abundance of randomly generated sites as a json file... \")\n",
    "\n",
    "# Writing to .json files to be later use in r \n",
    "with open(\"../output/ca_sites_%s.json\" %(Imageinfo),\"w\") as f1:\n",
    "    f1.write(CeAbSi_json)\n"
   ]
  },
  {
   "cell_type": "markdown",
   "id": "56efe4a9",
   "metadata": {},
   "source": [
    "### PCA on sites abundance "
   ]
  },
  {
   "cell_type": "code",
   "execution_count": null,
   "id": "117247cb",
   "metadata": {},
   "outputs": [],
   "source": [
    "\n",
    "print(\"Dimension reduction of sites cell abundances...\")\n",
    "PcOb = PCA()\n",
    "PcSi = PcOb.fit_transform(sites)\n",
    "PcSi \n",
    "\n",
    "PcDi = {\"PcSi\":PcSi.tolist(),\n",
    "        \"components\":PcOb.components_.tolist(),\n",
    "        \"expl_variance\":PcOb.explained_variance_.tolist(),\n",
    "        \"expl_var_ratio\":PcOb.explained_variance_ratio_.tolist(),\n",
    "        \"mean\":PcOb.mean_.tolist()}\n",
    "\n",
    "\n",
    "print(\"save PCA analysis as a json file... \")\n",
    "\n",
    "# Serializing json objects\n",
    "PCA_json = json.dumps(PcDi, indent=4) # PCA\n",
    "\n",
    "# Writing to .json files to be later use in r \n",
    "\n",
    "with open(\"../output/pca_sites_%s.json\" %(Imageinfo), \"w\") as f2:\n",
    "    f2.write(PCA_json)"
   ]
  },
  {
   "cell_type": "markdown",
   "id": "edbdaf4c",
   "metadata": {},
   "source": [
    "### Find the optimal number of archetype"
   ]
  },
  {
   "cell_type": "code",
   "execution_count": null,
   "id": "c3dcccbb",
   "metadata": {},
   "outputs": [],
   "source": [
    " \n",
    "NoAr = list(range(3, 10))\n",
    "ExVa = []\n",
    "for i in NoAr:\n",
    "    ArAa = ArchetypalAnalysis(n_archetypes = i, \n",
    "                        tolerance = 0.001, \n",
    "                        max_iter = 200, \n",
    "                        random_state = 0, \n",
    "                        C = 0.0001, \n",
    "                        initialize = 'random',\n",
    "                        redundancy_try = 30)\n",
    "    ArAa.fit(PcSi[:, :3])\n",
    "    ExVa.append( ArAa.explained_variance_)\n",
    "\n",
    "plt.plot(NoAr , ExVa, '-o')\n",
    "plt.xlabel('Number of Archytypes')\n",
    "plt.ylabel('explained variance')\n",
    "plt.savefig(\"../output/fig/optimal_number_of_archytype_%s.png\" %(Imageinfo))\n",
    "plt.ylim(0, 1)\n",
    "plt.xlim()\n",
    "plt.show()\n"
   ]
  },
  {
   "cell_type": "markdown",
   "id": "c1eb0963",
   "metadata": {},
   "source": [
    "### To use the same colors for visualization in R, define the color based on the number of niches, convert RGB color to hex color, and save the file as a json."
   ]
  },
  {
   "cell_type": "code",
   "execution_count": null,
   "id": "d9f334d1",
   "metadata": {},
   "outputs": [],
   "source": [
    " \n",
    "#COLARCHS =[(255,0,223),(70,203,236),(247,221,25),(8, 94, 4)] # 4 niches\n",
    "#COLARCHS = [(255,0,223),(13, 189, 60),(70,203,236),(240, 158, 17),(0,0,0)] # 5 niches\n",
    "#COLARCHS = [(255,0,223),(13, 189, 60),(70,203,236),(240, 158, 17),(240, 17, 35),(0,0,0)] # 6 niches\n",
    "COLARCHS = [(255,0,223),(70,203,236),(240, 17, 35),(240, 158, 17),(13, 189, 60),(108, 115, 196),(0,0,0)] # 7 niches\n",
    "#COLARCHS = [(255,0,223),(70,203,236),(240, 17, 35),(240, 158, 17),(13, 189, 60),(108, 115, 196),(192, 214, 21),(0,0,0)] # 8 niches\n",
    "\n",
    "NiCo = []\n",
    "\n",
    "def RGB_HEX(ColorList):\n",
    "    for i in ColorList: \n",
    "        x= '#%02x%02x%02x' % i\n",
    "        NiCo.append(x)\n",
    "    return (NiCo)\n",
    "\n",
    "RGB_HEX(COLARCHS)\n",
    "\n",
    "print(\"save hex colors as a json file... \")\n",
    "\n",
    "NiCo ={\"Niche_color\": NiCo} \n",
    "\n",
    "# Serializing json objects\n",
    "NiCo_json = json.dumps(NiCo,indent=4 )# Niches color code \n",
    "\n",
    "# Writing to .json files to be later use in r \n",
    "with open(\"../output/niches_color_%s.json\" %(Imageinfo),\"w\") as f3:\n",
    "    f3.write(NiCo_json)\n",
    "\n",
    "    \n",
    "    "
   ]
  },
  {
   "cell_type": "markdown",
   "id": "0dd66ef4",
   "metadata": {},
   "source": [
    "### Archetype analysis"
   ]
  },
  {
   "cell_type": "code",
   "execution_count": null,
   "id": "8d9ddb02",
   "metadata": {},
   "outputs": [],
   "source": [
    "\n",
    "print(\"Finding niches...\")\n",
    "NBNICHES = 7\n",
    "ncomp= NBNICHES-1\n",
    "ArAa = ArchetypalAnalysis(n_archetypes = NBNICHES,\n",
    "                 tolerance = 0.001,\n",
    "                 max_iter = 200,\n",
    "                 random_state = 0,\n",
    "                 C = 0.0001,\n",
    "                 initialize = 'random',\n",
    "                 redundancy_try = 30)\n",
    "ArAa.fit_transform(PcSi[:,:ncomp])\n",
    "\n",
    "\n",
    "\n",
    "print(str(NBNICHES)+\" niches found!\")\n",
    "\n",
    "NiCePro=get_niches_cell_abund(sitesCellAb=sites,pcaSites=PcOb,ArchObj=ArAa,nComp=ncomp)\n",
    "\n",
    "\n",
    "ArDi = {\"archs_coord\": ArAa.archetypes.tolist(),\n",
    "        \"alfas\": ArAa.alfa.tolist(),\n",
    "        \"nichesCA\":NiCePro.tolist()}\n",
    "\n",
    "# Serializing json objects\n",
    "ArAn_json = json.dumps(ArDi, indent=4) # Archytype analysis \n",
    "\n",
    "print(\"save Archetype analysis and niche cell abundance as a json file... \")\n",
    "\n",
    "# Writing to .json files to be later use in r \n",
    "with open(\"../output/AA_sites_%s.json\" %(Imageinfo),\"w\") as f4:\n",
    "    f4.write(ArAn_json)\n",
    "\n",
    "\n",
    "\n",
    "# add celltype as columnn name\n",
    "NiCeProDf = pd.DataFrame(NiCePro, columns = CELLTYPES ,\n",
    "                                      index=['Niche1', 'Niche2', 'Niche3','Niche4','Niche5','Niche6','Niche7'])\n",
    "NiCeProDf\n",
    "\n",
    "\n"
   ]
  },
  {
   "cell_type": "code",
   "execution_count": null,
   "id": "afb49934",
   "metadata": {},
   "outputs": [],
   "source": [
    "### Cell abandance list ###\n",
    "CeAbLi = CeAbLi[0]\n",
    "CeAbLiDf = CeAbLi.get_site_cell_map_dataframe()\n",
    "\n",
    "CeAbLiDf.to_csv(\"../output/cellabundancelist_%s.csv\" %(Imageinfo),index=False)\n",
    "CeAbLiDf"
   ]
  },
  {
   "cell_type": "markdown",
   "id": "f1d26a78",
   "metadata": {},
   "source": [
    "### bar plot of niche cell composition, colored by cell type"
   ]
  },
  {
   "cell_type": "code",
   "execution_count": null,
   "id": "e75dbcb6",
   "metadata": {},
   "outputs": [],
   "source": [
    "NiCeProDf.plot.bar( title = \"Niches cell profile\", subplots=False,\n",
    "           xlabel=\"Cell Type\",ylabel= \"cell densities\")\n",
    "plt.legend(bbox_to_anchor=(1.02, 0.5), loc='center left', borderaxespad=0,\n",
    "           title='Cell Type').get_figure().savefig(\"../output/fig/NichCellProfile_celltype_%s.png\" %(Imageinfo),\n",
    "            dpi=300, bbox_inches='tight')"
   ]
  },
  {
   "cell_type": "markdown",
   "id": "4766232c",
   "metadata": {},
   "source": [
    "### bar plot of niche cell composition, colored by niches "
   ]
  },
  {
   "cell_type": "code",
   "execution_count": null,
   "id": "fba5a23b",
   "metadata": {},
   "outputs": [],
   "source": [
    "# divide RGB color (COLARCHS) to 255, because Matplotlib accepts the range between 0 to 1 to specify a color.\n",
    "Ar_col = []\n",
    "for i in COLARCHS :\n",
    "    item = []\n",
    "    for b in i:\n",
    "        item.append(b/255)\n",
    "    Ar_col.append(item)\n",
    "       \n",
    "    \n",
    "pl = NiCeProDf.transpose()\n",
    "\n",
    "pl.plot.bar(color = Ar_col, title = \"Niches cell profile\", subplots=False,xlabel=\"Cell Type\",\n",
    "            ylabel= \"cell densities\").get_figure().savefig(\"../output/fig/NichCellProfile_%s.png\" %(Imageinfo), \n",
    "            dpi=300,bbox_inches='tight')\n"
   ]
  },
  {
   "cell_type": "markdown",
   "id": "e3dfced0",
   "metadata": {},
   "source": [
    "\n",
    "### Segmenting images into niches and save as svg file"
   ]
  },
  {
   "cell_type": "code",
   "execution_count": null,
   "id": "3336aab2",
   "metadata": {},
   "outputs": [],
   "source": [
    "\n",
    "print(\" The computational time for Segmenting images into niches is long... \")\n",
    "for i in ImageIDs:\n",
    "    GRANULARITY = 5\n",
    "    CePo = pd.read_csv(ROOT_DATA_PATH+\"/patient{}_cell_positions.csv\".format(i))\n",
    "    plot_cells_positions(CePo , CELLTYPES, segment_image=True, counting_type=METHOD,\n",
    "                         color_vector=COLARCHS,segmentation_type='colors',\n",
    "                         granularity=GRANULARITY, radius=RADIUS,pca_obj=PcOb,\n",
    "                         AA_obj=ArAa, to_plot = 'None',h=YSIZE, w=XSIZE,\n",
    "                        path_fig= \"../output/fig/nichesSeg_patient{}.svg\".format(i))\n",
    "\n",
    "\n"
   ]
  },
  {
   "cell_type": "markdown",
   "id": "b8324f1b",
   "metadata": {},
   "source": [
    "### Niche environments of cells"
   ]
  },
  {
   "cell_type": "code",
   "execution_count": null,
   "id": "45e23acc",
   "metadata": {},
   "outputs": [],
   "source": [
    "\n",
    "print(\"Computing cells' niches weights, the operation might take some time for more that one image...\")\n",
    "\n",
    "CeAbCnCeli = generate_abundance_matrix(CELLTYPES, ImageIDs, NSITES,RADIUS,\n",
    "                                       method=METHOD, snr=3,center_sites_cells=True,\n",
    "                                       border=False,root=ROOT_DATA_PATH)\n",
    "sitesCC, patients_ids2,sites_ids2, _ = join_abundance_matrices(CeAbCnCeli)\n",
    "\n",
    "CeNiWgt = compute_cells_niches_weights(niches=NiCePro,cellsSites=sitesCC,nbNiches=NBNICHES)\n",
    "\n",
    "SiAr = pd.DataFrame(CeNiWgt)\n",
    "SiAr['SampleID'] = patients_ids2\n",
    "SiAr[\"cell_id\"] = sites_ids2[:,0]\n",
    "SiAr[\"cell_type\"] = sites_ids2[:,1]\n",
    "SiAr[\"TOT_cell_dens\"]= sitesCC.sum(axis=1)\n",
    "SiAr.to_csv(\"../output/sites_cells_archs_%s.csv\" %(Imageinfo),index=False)\n",
    "\n",
    "\n",
    "CeAbSiCnCeDi = {\"cells_niches\": SiAr.to_dict()}\n",
    "\n",
    "# Serializing json objects\n",
    "CeNiWgt_json = json.dumps(CeAbSiCnCeDi,indent=4) # sites centered on cells and niches weights\n",
    "\n",
    "print(\"save cells' niches weights as a json file... \")\n",
    "\n",
    "# Writing to .json files to be later use in r \n",
    "with open(\"../output/cells_niches_%s.json\" %(Imageinfo),\"w\") as f5:\n",
    "    f5.write(CeNiWgt_json)\n",
    "\n",
    "    \n",
    "df = pd.read_csv (\"../output/sites_cells_archs_%s.csv\" %(Imageinfo))\n",
    "df"
   ]
  },
  {
   "cell_type": "code",
   "execution_count": null,
   "id": "39ececdf",
   "metadata": {},
   "outputs": [],
   "source": [
    "# to determine which cell type was eliminated from the sample site due to a small proportion\n",
    "s_arch = pd.DataFrame(CeNiWgt)\n",
    "s_arch[\"cell_type\"] = sites_ids2[:,1]\n",
    "\n",
    "print(s_arch[\"cell_type\"].unique())"
   ]
  }
 ],
 "metadata": {
  "kernelspec": {
   "display_name": "Python 3 (ipykernel)",
   "language": "python",
   "name": "python3"
  },
  "language_info": {
   "codemirror_mode": {
    "name": "ipython",
    "version": 3
   },
   "file_extension": ".py",
   "mimetype": "text/x-python",
   "name": "python",
   "nbconvert_exporter": "python",
   "pygments_lexer": "ipython3",
   "version": "3.9.7"
  }
 },
 "nbformat": 4,
 "nbformat_minor": 5
}
